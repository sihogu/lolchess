{
 "cells": [
  {
   "cell_type": "code",
   "execution_count": 3,
   "metadata": {},
   "outputs": [],
   "source": [
    "from selenium import webdriver\n",
    "from time import sleep\n",
    "from bs4 import BeautifulSoup\n",
    "import requests\n",
    "from selenium.webdriver.common.by import By\n",
    "from selenium.webdriver.support.ui import WebDriverWait\n",
    "from selenium.webdriver.support import expected_conditions as EC"
   ]
  },
  {
   "cell_type": "code",
   "execution_count": 26,
   "metadata": {},
   "outputs": [],
   "source": [
    "def make_url(x_url):\n",
    "    response = requests.get(x_url, headers = {'User-Agent':'Mozilla/5.0 (Windows NT 10.0 x64)'})\n",
    "    text = response.text\n",
    "    html = BeautifulSoup(text, 'html.parser')\n",
    "    return html\n",
    "    \n",
    "def find_page(x_page_number,x_url,x_html):\n",
    "    target_text = \"공략 더 보기\"\n",
    "    target_element = x_html.find(string=target_text)\n",
    "    parent_element = target_element.find_parent().parent.parent.get(\"class\")\n",
    "    x_page = x_url + x_html.find_all('div',{'class':parent_element})[x_page_number].find('a')['href'] #class = css-1jardaz emls75t6\n",
    "    return x_page\n",
    "\n",
    "def find_table():\n",
    "    LV5_button = driver.find_element(By.XPATH, \"//*[@id=\\\"content-container\\\"]/div[2]/div[2]/div[1]/div[1]/div[2]/div/nav/div[1]\")\n",
    "    LV5_button.click()\n",
    "    sleep(0.2)\n",
    "    x_target_table = driver.find_element(By.XPATH,'//*[@id=\"content-container\"]/div[2]/div[2]/div[1]/div[1]/div[1]')\n",
    "    return x_target_table\n",
    "\n",
    "def first_augmenter():\n",
    "    x_target_deck_name = driver.find_element(By.XPATH,'//*[@id=\"content-container\"]/div[2]/div[2]/div[2]/div/div[1]/div/div/div[1]/h2')\n",
    "    return x_target_deck_name\n",
    "\n",
    "\n",
    "def find_deck_name(x_html,x_deck_name_list):\n",
    "    x_deck_name = x_html.find('div',{'class':'css-1s5hngw e691syl3'}).find('h2').text\n",
    "    x_deck_name_list.append(x_deck_name)\n",
    "    return x_deck_name_list\n",
    "\n",
    "def find_item(x_html,x_deck_name_list):\n",
    "    t = x_html.find('div',{'class':'css-1s5hngw e691syl3'}).text\n",
    "    x_deck_name_list.append(t.split('수집 아이템 추천')[1].split('활용 아이템')[0].replace('\\xa0',''))\n",
    "    return x_deck_name_list"
   ]
  },
  {
   "cell_type": "markdown",
   "metadata": {},
   "source": [
    "## 덱 이름이랑 아이템 불러오기"
   ]
  },
  {
   "cell_type": "code",
   "execution_count": 27,
   "metadata": {},
   "outputs": [],
   "source": [
    "url = 'https://lolchess.gg'\n",
    "\n",
    "\n",
    "html = make_url(url+'/meta')\n",
    "\n",
    "deck_name_list = []\n",
    "item_list = []\n",
    "list_names = [deck_name_list, item_list]\n",
    "function_names2 = [find_deck_name, find_item]\n",
    "\n",
    "number = len(html.find_all('div',{'class':'css-128625v emls75t7'}))\n",
    "numbers = range(1,number)\n",
    "\n",
    "for i in numbers:\n",
    "    for function_name2, list_name in zip(function_names2, list_names):\n",
    "        page = find_page(i, url, html)\n",
    "        tip_page = make_url(page) #html.paser\n",
    "        \n",
    "        function_name2(tip_page, list_name)"
   ]
  },
  {
   "cell_type": "code",
   "execution_count": 28,
   "metadata": {},
   "outputs": [
    {
     "name": "stdout",
     "output_type": "stream",
     "text": [
      "['https://lolchess.gg/builder/guide/74fa035ed0362e585893aaf62331b4751389c9af?type=guide', 'https://lolchess.gg/builder/guide/2ef72babcbedec5c59eae439a40b0f7388ca12f0?type=guide', 'https://lolchess.gg/builder/guide/3dd709a02ef8ec4e3602d363086f7dc535417431?type=guide', 'https://lolchess.gg/builder/guide/c9ab1028c7ae63e1b3e41b1c66567908b6163e9e?type=guide', 'https://lolchess.gg/builder/guide/e4d72a91c2c9704f39c642f30510f4515965f45d?type=guide', 'https://lolchess.gg/builder/guide/6863500b26d01d2f0972f9a1a20b70b661f5e6b1?type=guide', 'https://lolchess.gg/builder/guide/b308b3733de523d1629baaafeb79bb753a51cc3d?type=guide', 'https://lolchess.gg/builder/guide/182ae151a639e9910379deab3cecce8873d032c4?type=guide', 'https://lolchess.gg/builder/guide/2383351bb9bf786b23eda1fc962491a2d3fa1c22?type=guide', 'https://lolchess.gg/builder/guide/4fb5bf44201a9ceff181734c6e14a74e11981ede?type=guide', 'https://lolchess.gg/builder/guide/708a4e4af3e02c615fa293f8be40486da2c073f0?type=guide', 'https://lolchess.gg/builder/guide/cdfaaa726429595233dc5d7b0d1a23aad696ac80?type=guide', 'https://lolchess.gg/builder/guide/7fc58c27ab55fabb0c1f27ed8b05034b5e0eee50?type=guide', 'https://lolchess.gg/builder/guide/ada3af1c3c611b90a9034fcfd91e7fbfdc9035f9?type=guide', 'https://lolchess.gg/builder/guide/c79848ffd0314e3fddd96f39c733b0ebd003e71f?type=guide', 'https://lolchess.gg/builder/guide/63cee05d4d926fe64857492456e4743b0ee579dd?type=guide', 'https://lolchess.gg/builder/guide/711d6d1a5683c009a77b00f7b5d37cddbf2f61f1?type=guide', 'https://lolchess.gg/builder/guide/cc4d61118e5032bb6fb74dd38aabe0159b846687?type=guide', 'https://lolchess.gg/builder/guide/8d87089b9cf99576101e023fb1b8258181af443c?type=guide', 'https://lolchess.gg/builder/guide/87ef5571f8cc65c0208d7ba7e8ca3b17dab24c0f?type=guide', 'https://lolchess.gg/builder/guide/9cab00ca9d2a29f6f3e2114bd9212fefb94b383d?type=guide', 'https://lolchess.gg/builder/guide/168d95c42de0363a7853eb13fda6cfb85fcaae44?type=guide', 'https://lolchess.gg/builder/guide/791f183675ffba5c9e5d55c30968e2e3aa68bc00?type=guide', 'https://lolchess.gg/builder/guide/1150de360b30ac956f99edb456ee246b8b9306f5?type=guide', 'https://lolchess.gg/builder/guide/2e154b4654fe2f87b08127889405d1e4d5331f47?type=guide', 'https://lolchess.gg/builder/guide/0e7d495749db125f73fe9a49571a6f62ae47079a?type=guide', 'https://lolchess.gg/builder/guide/3e44379a1a5c8bd6bcd18b01cb698a9c71718e1c?type=guide', 'https://lolchess.gg/builder/guide/16454d647f7f189ce95af283347096429e17a279?type=guide', 'https://lolchess.gg/builder/guide/b70a8b7db5ddae3125275dc48e6e27bfee5ded0a?type=guide'] ['C:/Users/시호/vscode/joy/lolchess_image/table/table_1.png', 'C:/Users/시호/vscode/joy/lolchess_image/table/table_2.png', 'C:/Users/시호/vscode/joy/lolchess_image/table/table_3.png', 'C:/Users/시호/vscode/joy/lolchess_image/table/table_4.png', 'C:/Users/시호/vscode/joy/lolchess_image/table/table_5.png', 'C:/Users/시호/vscode/joy/lolchess_image/table/table_6.png', 'C:/Users/시호/vscode/joy/lolchess_image/table/table_7.png', 'C:/Users/시호/vscode/joy/lolchess_image/table/table_8.png', 'C:/Users/시호/vscode/joy/lolchess_image/table/table_9.png', 'C:/Users/시호/vscode/joy/lolchess_image/table/table_10.png', 'C:/Users/시호/vscode/joy/lolchess_image/table/table_11.png', 'C:/Users/시호/vscode/joy/lolchess_image/table/table_12.png', 'C:/Users/시호/vscode/joy/lolchess_image/table/table_13.png', 'C:/Users/시호/vscode/joy/lolchess_image/table/table_14.png', 'C:/Users/시호/vscode/joy/lolchess_image/table/table_15.png', 'C:/Users/시호/vscode/joy/lolchess_image/table/table_16.png', 'C:/Users/시호/vscode/joy/lolchess_image/table/table_17.png', 'C:/Users/시호/vscode/joy/lolchess_image/table/table_18.png', 'C:/Users/시호/vscode/joy/lolchess_image/table/table_19.png', 'C:/Users/시호/vscode/joy/lolchess_image/table/table_20.png', 'C:/Users/시호/vscode/joy/lolchess_image/table/table_21.png', 'C:/Users/시호/vscode/joy/lolchess_image/table/table_22.png', 'C:/Users/시호/vscode/joy/lolchess_image/table/table_23.png', 'C:/Users/시호/vscode/joy/lolchess_image/table/table_24.png', 'C:/Users/시호/vscode/joy/lolchess_image/table/table_25.png', 'C:/Users/시호/vscode/joy/lolchess_image/table/table_26.png', 'C:/Users/시호/vscode/joy/lolchess_image/table/table_27.png', 'C:/Users/시호/vscode/joy/lolchess_image/table/table_28.png', 'C:/Users/시호/vscode/joy/lolchess_image/table/table_29.png']\n",
      "29 29\n"
     ]
    }
   ],
   "source": [
    "link1_list =[]\n",
    "file_location_list = []\n",
    "\n",
    "for i in range(1,30):\n",
    "    link1_list.append(find_page(i, url, html))\n",
    "    file_location_list.append(f'C:/Users/시호/vscode/joy/lolchess_image/table/table_{i}.png')\n",
    "\n",
    "\n",
    "print(link1_list, file_location_list)\n",
    "print(len(link1_list), len(file_location_list))"
   ]
  },
  {
   "cell_type": "markdown",
   "metadata": {},
   "source": [
    "### html body 태그 생성기"
   ]
  },
  {
   "cell_type": "code",
   "execution_count": 37,
   "metadata": {},
   "outputs": [
    {
     "data": {
      "text/plain": [
       "'<h2><a href=\"https://lolchess.gg/builder/guide/74fa035ed0362e585893aaf62331b4751389c9af?type=guide\">천계 신화 바드 리롤 덱</a></h2><img src=\"C:/Users/시호/vscode/joy/lolchess_image/table/table_1.png\"><div class=\"text-content\">[딜러: 바드, 소라카]· 구인수의 격노검, 거인 학살자의 조합 아이템인곡궁을 추천합니다.<br>· 마법공학 총검, 대천사의 지팡이, 보석 건틀릿의 조합 아이템인쓸데없이 큰 지팡이를 추천합니다.<br>[탱커: 탐 켄치, 니코]· 태양불꽃 망토, 워모그의 갑옷의 조합 아이템인거인의 허리띠를 추천합니다.<br></div><hr><h2><a href=\"https://lolchess.gg/builder/guide/2ef72babcbedec5c59eae439a40b0f7388ca12f0?type=guide\">4현자 모르가나 오공 덱</a></h2><img src=\"C:/Users/시호/vscode/joy/lolchess_image/table/table_2.png\"><div class=\"text-content\">[딜러: 모르가나, 케인, 오공]· 모렐로노미콘, 라바돈의 죽음모자의 조합 아이템인쓸데없이 큰 지팡이를 추천합니다.<br>· 쇼진의 창, 푸른 파수꾼, 정의의 손길의 조합 아이템인여신의 눈물을 추천합니다.<br>[탱커: 갈리오]· 가고일 돌갑옷의 조합 아이템인쇠사슬 조끼를 추천합니다.<br></div><hr><h2><a href=\"https://lolchess.gg/builder/guide/3dd709a02ef8ec4e3602d363086f7dc535417431?type=guide\">필연 아펠리오스 신드라 덱</a></h2><img src=\"C:/Users/시호/vscode/joy/lolchess_image/table/table_3.png\"><div class=\"text-content\">[딜러: 아펠리오스, 애쉬, 신드라]· 최후의 속삭임, 구인수의 격노검, 루난의 허리케인의 조합 아이템인곡궁을 추천합니다.<br>· 무한의 대검, 거인 학살자의 조합 아이템인BF 대검을 추천합니다.<br>· 보석 건틀릿, 라바돈의 죽음모자의 조합 아이템인쓸데없이 큰 지팡이를 추천합니다.<br>[탱커: 쓰레쉬, 아무무]· 워모그의 갑옷, 태양불꽃 망토의 조합 아이템인거인의 허리띠를 추천합니다.<br></div><hr><h2><a href=\"https://lolchess.gg/builder/guide/c9ab1028c7ae63e1b3e41b1c66567908b6163e9e?type=guide\">6암영 요네 리롤 덱</a></h2><img src=\"C:/Users/시호/vscode/joy/lolchess_image/table/table_4.png\"><div class=\"text-content\">[딜러: 요네, 알룬]· 피바라기의 조합 아이템인BF 대검을 추천합니다.<br>· 거인의 결의, 구인수의 격노검의 조합 아이템인곡궁을 추천합니다.<br>· 구인수의 격노검, 보석 건틀릿, 라바돈의 죽음모자의 조합 아이템인쓸데없이 큰 지팡이를 추천합니다.<br></div><hr><h2><a href=\"https://lolchess.gg/builder/guide/e4d72a91c2c9704f39c642f30510f4515965f45d?type=guide\">6혼령 케이틀린 쉔 리롤 덱</a></h2><img src=\"C:/Users/시호/vscode/joy/lolchess_image/table/table_5.png\"><div class=\"text-content\">[딜러: 케이틀린, 모르가나, 케인]· 구인수의 격노검, 보석 건틀릿, 모렐로노미콘의 조합 아이템인쓸데없이 큰 지팡이를 추천합니다.<br>· 무한의 대검, 쇼진의 창, 피바라기의 조합 아이템인 BF 대검을 추천합니다.<br>[탱커: 쉔, 아트록스]· 워모그의 갑옷, 구원의 조합 아이템인거인의 허리띠를 추천합니다.<br></div><hr><h2><a href=\"https://lolchess.gg/builder/guide/6863500b26d01d2f0972f9a1a20b70b661f5e6b1?type=guide\">4용군주 아지르 흐웨이 덱</a></h2><img src=\"C:/Users/시호/vscode/joy/lolchess_image/table/table_6.png\"><div class=\"text-content\">· 보석 건틀릿, 구인수의 격노검, 라바돈의 죽음모자의 조합 아이템인쓸데없이 큰 지팡이를 추천합니다.<br>· 쇼진의 창, 정의의 손길의 조합 아이템인여신의 눈물을 추천합니다.<br>· 피바라기, 거인 학살자, 쇼진의 창의 조합 아이템인BF 대검을 추천합니다.<br></div><hr><h2><a href=\"https://lolchess.gg/builder/guide/b308b3733de523d1629baaafeb79bb753a51cc3d?type=guide\">신화 코그모 리롤 덱</a></h2><img src=\"C:/Users/시호/vscode/joy/lolchess_image/table/table_7.png\"><div class=\"text-content\">[딜러: 코그모, 케이틀린]· 푸른 파수꾼, 쇼진의 창의 조합 아이템인여신의 눈물을 추천합니다.<br>· 보석 건틀릿, 무한의 대검, 최후의 속삭임의 조합 아이템인연습용 장갑을 추천합니다.<br>[탱커: 초가스, 니코]· 가고일 돌갑옷, 태양불꽃 망토의 조합 아이템인쇠사슬 조끼를 추천합니다.<br></div><hr><h2><a href=\"https://lolchess.gg/builder/guide/182ae151a639e9910379deab3cecce8873d032c4?type=guide\">6결투가 리롤 덱</a></h2><img src=\"C:/Users/시호/vscode/joy/lolchess_image/table/table_8.png\"><div class=\"text-content\">[딜러: 트리스타나, 리 신, 이렐리아]· 최후의 속삭임, 구인수의 격노검, 거인 학살자의 조합 아이템인곡궁을 추천합니다.<br>· 무한의 대검, 피바라기의 조합 아이템인BF 대검을 추천합니다.<br>[탱커: 다이애나, 볼리베어]· 태양불꽃 망토, 가고일 돌갑옷, 거인의 결의의 조합 아이템인쇠사슬 조끼를 추천합니다.<br></div><hr><h2><a href=\"https://lolchess.gg/builder/guide/2383351bb9bf786b23eda1fc962491a2d3fa1c22?type=guide\">숲지기 나르 세나 리롤 덱</a></h2><img src=\"C:/Users/시호/vscode/joy/lolchess_image/table/table_9.png\"><div class=\"text-content\">[딜러: 나르, 세나]· 구인수의 격노검, 최후의 속삭임, 거인의 결의의 조합 아이템인곡궁을 추천합니다.<br>· 피바라기, 거인 학살자의 조합 아이템인BF 대검을 추천합니다.<br>[탱커: 아트록스, 렉사이, 잭스]· 태양불꽃 망토, 구원의 조합 아이템인거인의 허리띠를 추천합니다.<br></div><hr><h2><a href=\"https://lolchess.gg/builder/guide/4fb5bf44201a9ceff181734c6e14a74e11981ede?type=guide\">숲지기 킨드레드 리롤 덱</a></h2><img src=\"C:/Users/시호/vscode/joy/lolchess_image/table/table_10.png\"><div class=\"text-content\">[딜러: 킨드레드, 나르]· 거인 학살자, 피바라기의 조합 아이템인BF 대검을 추천합니다.<br>· 푸른 파수꾼, 정의의 손길의 조합 아이템인여신의 눈물을 추천합니다.<br>[탱커: 일라오이, 오른]· 덤불 조끼, 태양불꽃 망토, 크라운가드의 조합 아이템인쇠사슬 조끼를 추천합니다.<br></div><hr><h2><a href=\"https://lolchess.gg/builder/guide/708a4e4af3e02c615fa293f8be40486da2c073f0?type=guide\">필연 아리 야스오 리롤 덱</a></h2><img src=\"C:/Users/시호/vscode/joy/lolchess_image/table/table_11.png\"><div class=\"text-content\">[딜러: 아리, 신드라]· 쇼진의 창, 푸른 파수꾼의 조합 아이템인여신의 눈물을 추천합니다.<br>· 보석 건틀릿, 라바돈의 죽음모자의 조합 아이템인쓸데없이 큰 지팡이를 추천합니다.<br>[탱커: 야스오, 쓰레쉬]· 가고일 돌갑옷, 태양불꽃 망토의 조합 아이템인쇠사슬 조끼를 추천합니다.<br></div><hr><h2><a href=\"https://lolchess.gg/builder/guide/cdfaaa726429595233dc5d7b0d1a23aad696ac80?type=guide\">4난동꾼 신화 바드 리롤</a></h2><img src=\"C:/Users/시호/vscode/joy/lolchess_image/table/table_12.png\"><div class=\"text-content\">[딜러: 바드]· 구인수의 격노검, 거인 학살자의 조합 아이템인곡궁을 추천합니다.<br>· 구인수의 격노검, 마법공학 총검의 조합 아이템인쓸데없이 큰 지팡이를 추천합니다.<br>[탱커: 탐 켄치, 노틸러스]· 태양불꽃 망토, 워모그의 갑옷의 조합 아이템인거인의 허리띠를 추천합니다.<br></div><hr><h2><a href=\"https://lolchess.gg/builder/guide/7fc58c27ab55fabb0c1f27ed8b05034b5e0eee50?type=guide\">7이야기꾼 이렐리아 덱</a></h2><img src=\"C:/Users/시호/vscode/joy/lolchess_image/table/table_13.png\"><div class=\"text-content\">[딜러: 이렐리아]· 구인수의 격노검, 거인 학살자의 조합 아이템인곡궁을 추천합니다.<br>· 무한의 대검, 거인 학살자의 조합 아이템인BF 대검을 추천합니다.<br>[탱커: 갈리오]· 가고일 돌갑옷의 조합 아이템인쇠사슬 조끼를 추천합니다.<br></div><hr><h2><a href=\"https://lolchess.gg/builder/guide/ada3af1c3c611b90a9034fcfd91e7fbfdc9035f9?type=guide\">4난동꾼 4재주꾼 카이사 덱</a></h2><img src=\"C:/Users/시호/vscode/joy/lolchess_image/table/table_14.png\"><div class=\"text-content\">[딜러: 카이사, 자야]· 최후의 속삭임, 구인수의 격노검의 조합 아이템인곡궁을 추천합니다.<br>· 무한의 대검, 거인 학살자의 조합 아이템인BF 대검을 추천합니다.<br>[탱커: 갈리오]· 가고일 돌갑옷의 조합 아이템인쇠사슬 조끼를 추천합니다.<br></div><hr><h2><a href=\"https://lolchess.gg/builder/guide/c79848ffd0314e3fddd96f39c733b0ebd003e71f?type=guide\">4용군주 잔나 리롤 덱</a></h2><img src=\"C:/Users/시호/vscode/joy/lolchess_image/table/table_15.png\"><div class=\"text-content\">[딜러: 잔나, 자이라]· 구인수의 격노검, 대천사의 지팡이, 보석 건틀릿의 조합 아이템인쓸데없이 큰 지팡이를 추천합니다.<br>· 쇼진의 창, 대천사의 지팡이의 조합 아이템인여신의 눈물을 추천합니다.<br>[탱커: 갈리오]· 가고일 돌갑옷의 조합 아이템인쇠사슬 조끼를 추천합니다.<br></div><hr><h2><a href=\"https://lolchess.gg/builder/guide/63cee05d4d926fe64857492456e4743b0ee579dd?type=guide\">환영 칼날 쉔 덱</a></h2><img src=\"C:/Users/시호/vscode/joy/lolchess_image/table/table_16.png\"><div class=\"text-content\">[딜러: 쉔]· 구인수의 격노검, 거인 학살자의 조합 아이템인곡궁을 추천합니다.<br>[탱커: 요릭, 쓰레쉬]· 워모그의 갑옷의 조합 아이템인거인의 허리띠를 추천합니다.<br></div><hr><h2><a href=\"https://lolchess.gg/builder/guide/711d6d1a5683c009a77b00f7b5d37cddbf2f61f1?type=guide\">행운 4재주꾼 덱</a></h2><img src=\"C:/Users/시호/vscode/joy/lolchess_image/table/table_17.png\"><div class=\"text-content\">[딜러: 티모, 카이사]· 보석 건틀릿, 모렐로노미콘의 조합 아이템인쓸데없이 큰 지팡이를 추천합니다.<br>· 푸른 파수꾼, 쇼진의 창, 정의의 손길의 조합 아이템인 여신의 눈물을 추천합니다.<br>· 최후의 속삭임, 무한의 대검, 보석 건틀릿의 조합 아이템인 연습용 장갑을 추천합니다.<br>[탱커: 갈리오, 애니]· 가고일 돌갑옷, 덤불 조끼의 조합 아이템인쇠사슬 조끼를 추천합니다.<br></div><hr><h2><a href=\"https://lolchess.gg/builder/guide/cc4d61118e5032bb6fb74dd38aabe0159b846687?type=guide\">건강 또 건강 2코 리롤 덱</a></h2><img src=\"C:/Users/시호/vscode/joy/lolchess_image/table/table_18.png\"><div class=\"text-content\">[딜러: 세나, 티모]· 모렐로노미콘, 구인수의 격노검의 조합 아이템인쓸데없이 큰 지팡이를 추천합니다.<br>· 푸른 파수꾼, 쇼진의 창의 조합 아이템인 여신의 눈물을 추천합니다.<br>· 거인 학살자, 무한의 대검의 조합 아이템인 BF 대검을 추천합니다.<br>[탱커: 쉔, 아트록스]· 덤불 조끼, 거인의 결의의 조합 아이템인쇠사슬 조끼를 추천합니다.<br></div><hr><h2><a href=\"https://lolchess.gg/builder/guide/8d87089b9cf99576101e023fb1b8258181af443c?type=guide\">7신화 기원자 릴리아 덱</a></h2><img src=\"C:/Users/시호/vscode/joy/lolchess_image/table/table_19.png\"><div class=\"text-content\">[딜러: 릴리아, 흐웨이]· 보석 건틀릿, 라바돈의 죽음모자, 모렐로노미콘의 조합 아이템인쓸데없이 큰 지팡이를 추천합니다.<br>· 쇼진의 창의 조합 아이템인여신의 눈물을 추천합니다.<br>[탱커: 노틸러스, 애니]· 가고일 돌갑옷, 덤불 조끼의 조합 아이템인쇠사슬 조끼를 추천합니다.<br></div><hr><h2><a href=\"https://lolchess.gg/builder/guide/87ef5571f8cc65c0208d7ba7e8ca3b17dab24c0f?type=guide\">6비전 마법사 신드라 덱</a></h2><img src=\"C:/Users/시호/vscode/joy/lolchess_image/table/table_20.png\"><div class=\"text-content\">[딜러: 신드라, 리산드라]· 보석 건틀릿, 라바돈의 죽음모자, 마법공학 총검의 조합 아이템인쓸데없이 큰 지팡이를 추천합니다.<br>· 쇼진의 창, 푸른 파수꾼의 조합 아이템인여신의 눈물을 추천합니다.<br>[탱커: 일라오이, 쓰레쉬]· 가고일 돌갑옷, 태양불꽃 망토의 조합 아이템인쇠사슬 조끼를 추천합니다.<br></div><hr><h2><a href=\"https://lolchess.gg/builder/guide/9cab00ca9d2a29f6f3e2114bd9212fefb94b383d?type=guide\">6기원자 알룬 릴리아 덱</a></h2><img src=\"C:/Users/시호/vscode/joy/lolchess_image/table/table_21.png\"><div class=\"text-content\">[딜러: 알룬, 릴리아]· 보석 건틀릿, 라바돈의 죽음모자의 조합 아이템인쓸데없이 큰 지팡이를 추천합니다.<br>· 쇼진의 창, 푸른 파수꾼의 조합 아이템인여신의 눈물을 추천합니다.<br>[탱커: 애니]· 가고일 돌갑옷, 덤불 조끼의 조합 아이템인쇠사슬 조끼를 추천합니다.<br></div><hr><h2><a href=\"https://lolchess.gg/builder/guide/168d95c42de0363a7853eb13fda6cfb85fcaae44?type=guide\">먹그림자 카이사 덱</a></h2><img src=\"C:/Users/시호/vscode/joy/lolchess_image/table/table_22.png\"><div class=\"text-content\">[딜러: 카이사, 자야]· 구인수의 격노검, 거인 학살자의 조합 아이템인곡궁을 추천합니다.<br>· 거인 학살자, 무한의 대검의 조합 아이템인BF 대검을 추천합니다.<br>[탱커: 아트록스, 볼리베어, 우디르]· 태양불꽃 망토, 워모그의 갑옷의 조합 아이템인거인의 허리띠를 추천합니다.<br></div><hr><h2><a href=\"https://lolchess.gg/builder/guide/791f183675ffba5c9e5d55c30968e2e3aa68bc00?type=guide\">이타심 소라카 리롤 덱</a></h2><img src=\"C:/Users/시호/vscode/joy/lolchess_image/table/table_23.png\"><div class=\"text-content\">[딜러: 소라카, 알룬]· 보석 건틀릿, 대천사의 지팡이의 조합 아이템인쓸데없이 큰 지팡이를 추천합니다.<br>· 쇼진의 창, 푸른 파수꾼의 조합 아이템인여신의 눈물을 추천합니다.<br>[탱커: 다이애나]· 태양불꽃 망토의 조합 아이템인쇠사슬 조끼를 추천합니다.<br></div><hr><h2><a href=\"https://lolchess.gg/builder/guide/1150de360b30ac956f99edb456ee246b8b9306f5?type=guide\">도자기 애쉬 리산드라 덱</a></h2><img src=\"C:/Users/시호/vscode/joy/lolchess_image/table/table_24.png\"><div class=\"text-content\">[딜러: 애쉬, 리산드라]· 구인수의 격노검, 거인 학살자의 조합 아이템인곡궁을 추천합니다.<br>· 무한의 대검, 거인 학살자의 조합 아이템인BF 대검을 추천합니다.<br>· 구인수의 격노검, 보석 건틀릿, 마법공학 총검의 조합 아이템인쓸데없이 큰 지팡이를 추천합니다.<br>[탱커: 아무무]· 태양불꽃 망토, 워모그의 갑옷의 조합 아이템인거인의 허리띠를 추천합니다.<br></div><hr><h2><a href=\"https://lolchess.gg/builder/guide/2e154b4654fe2f87b08127889405d1e4d5331f47?type=guide\">4암영 4기원자 알룬 덱</a></h2><img src=\"C:/Users/시호/vscode/joy/lolchess_image/table/table_25.png\"><div class=\"text-content\">[딜러: 알룬]· 보석 건틀릿, 라바돈의 죽음모자의 조합 아이템인쓸데없이 큰 지팡이를 추천합니다.<br>· 쇼진의 창, 푸른 파수꾼의 조합 아이템인여신의 눈물을 추천합니다.<br>[탱커: 사일러스, 애니]· 가고일 돌갑옷, 거인의 결의의 조합 아이템인쇠사슬 조끼를 추천합니다.<br></div><hr><h2><a href=\"https://lolchess.gg/builder/guide/0e7d495749db125f73fe9a49571a6f62ae47079a?type=guide\">천계 소라카 리롤 덱</a></h2><img src=\"C:/Users/시호/vscode/joy/lolchess_image/table/table_26.png\"><div class=\"text-content\">[딜러: 소라카]· 보석 건틀릿, 대천사의 지팡이의 조합 아이템인쓸데없이 큰 지팡이를 추천합니다.<br>· 쇼진의 창, 푸른 파수꾼의 조합 아이템인여신의 눈물을 추천합니다.<br>[탱커: 니코]· 태양불꽃 망토, 워모그의 갑옷의 조합 아이템인거인의 허리띠를 추천합니다.<br></div><hr><h2><a href=\"https://lolchess.gg/builder/guide/3e44379a1a5c8bd6bcd18b01cb698a9c71718e1c?type=guide\">천계 사신 카직스 리롤 덱</a></h2><img src=\"C:/Users/시호/vscode/joy/lolchess_image/table/table_27.png\"><div class=\"text-content\">[딜러: 카직스, 요네]· 피바라기, 밤의 끝자락, 무한의 대검의 조합 아이템인BF 대검을 추천합니다.<br>· 무한의 대검, 정의의 손길의 조합 아이템인연습용 장갑을 추천합니다.<br></div><hr><h2><a href=\"https://lolchess.gg/builder/guide/16454d647f7f189ce95af283347096429e17a279?type=guide\">4비전 4파수꾼 신드라 덱</a></h2><img src=\"C:/Users/시호/vscode/joy/lolchess_image/table/table_28.png\"><div class=\"text-content\">[딜러: 신드라]· 보석 건틀릿, 마법공학 총검의 조합 아이템인쓸데없이 큰 지팡이를 추천합니다.<br>· 쇼진의 창, 푸른 파수꾼의 조합 아이템인여신의 눈물을 추천합니다.<br>[탱커: 파수꾼]· 태양불꽃 망토, 덤불 조끼의 조합 아이템인쇠사슬 조끼를 추천합니다.<br></div><hr><h2><a href=\"https://lolchess.gg/builder/guide/b70a8b7db5ddae3125275dc48e6e27bfee5ded0a?type=guide\">6난동꾼 코부코 리롤 덱</a></h2><img src=\"C:/Users/시호/vscode/joy/lolchess_image/table/table_29.png\"><div class=\"text-content\">[딜러: 코부코]· 피바라기의 조합 아이템인BF 대검을 추천합니다.<br>· 거인의 결의의 조합 아이템인쇠사슬 조끼를 추천합니다.<br>[탱커: 렉사이, 갈리오]· 태양불꽃 망토, 구원의 조합 아이템인거인의 허리띠를 추천합니다.<br></div><hr>'"
      ]
     },
     "execution_count": 37,
     "metadata": {},
     "output_type": "execute_result"
    }
   ],
   "source": [
    "text_list = \"\"\n",
    "\n",
    "for link1, deck_name, file_location, item in zip(link1_list, deck_name_list, file_location_list, item_list):\n",
    "    if 'B.F.대검' in item:\n",
    "        item = item.replace('B.F.대검','BF 대검')\n",
    "        item = re.sub(r'\\.', '.<br>', item)\n",
    "        \n",
    "    elif 'B.F. 대검' in item:\n",
    "        item = item.replace('B.F. 대검','BF 대검')\n",
    "        item = re.sub(r'\\.', '.<br>', item)\n",
    "    else:\n",
    "        item = re.sub(r'\\.', '.<br>', item)\n",
    "    \n",
    "    text = f\"\"\"<h2><a href=\"{link1}\">{deck_name}</a></h2><img src=\"{file_location}\"><div class=\"text-content\">{item}</div><hr>\"\"\"\n",
    "    text_list += text\n",
    "    \n",
    "text_list"
   ]
  },
  {
   "cell_type": "code",
   "execution_count": 38,
   "metadata": {},
   "outputs": [],
   "source": [
    "import clipboard\n",
    "\n",
    "clipboard.copy(text_list)"
   ]
  },
  {
   "cell_type": "code",
   "execution_count": 40,
   "metadata": {},
   "outputs": [
    {
     "data": {
      "text/plain": [
       "<div class=\"css-128625v emls75t7\">공략 더 보기</div>"
      ]
     },
     "execution_count": 40,
     "metadata": {},
     "output_type": "execute_result"
    }
   ],
   "source": [
    "html = make_url(url+'/meta')\n",
    "\n",
    "target_text = \"공략 더 보기\"\n",
    "target_element = html.find(string=target_text)\n",
    "target_element.find_parent()"
   ]
  }
 ],
 "metadata": {
  "kernelspec": {
   "display_name": "base",
   "language": "python",
   "name": "python3"
  },
  "language_info": {
   "codemirror_mode": {
    "name": "ipython",
    "version": 3
   },
   "file_extension": ".py",
   "mimetype": "text/x-python",
   "name": "python",
   "nbconvert_exporter": "python",
   "pygments_lexer": "ipython3",
   "version": "3.11.7"
  }
 },
 "nbformat": 4,
 "nbformat_minor": 2
}
