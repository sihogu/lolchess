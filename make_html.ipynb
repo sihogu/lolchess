{
 "cells": [
  {
   "cell_type": "code",
   "execution_count": 1,
   "metadata": {},
   "outputs": [],
   "source": [
    "from selenium import webdriver\n",
    "from time import sleep\n",
    "from bs4 import BeautifulSoup\n",
    "import requests\n",
    "from selenium.webdriver.common.by import By\n",
    "from selenium.webdriver.support.ui import WebDriverWait\n",
    "from selenium.webdriver.support import expected_conditions as EC\n",
    "import re"
   ]
  },
  {
   "cell_type": "code",
   "execution_count": 11,
   "metadata": {},
   "outputs": [],
   "source": [
    "def make_url(x_url):\n",
    "    response = requests.get(x_url, headers = {'User-Agent':'Mozilla/5.0 (Windows NT 10.0 x64)'})\n",
    "    text = response.text\n",
    "    html = BeautifulSoup(text, 'html.parser')\n",
    "    return html\n",
    "    \n",
    "def find_page(x_page_number,x_url,x_html):\n",
    "    target_text = \"공략 더 보기\"\n",
    "    target_element = x_html.find(string=target_text)\n",
    "    parent_element = target_element.find_parent().parent.parent.get(\"class\")\n",
    "    x_page = x_url + x_html.find_all('div',{'class':parent_element})[x_page_number].find('a')['href'] #class = css-1jardaz emls75t6\n",
    "    return x_page\n",
    "\n",
    "def find_table():\n",
    "    LV5_button = driver.find_element(By.XPATH, \"//*[@id=\\\"content-container\\\"]/div[2]/div[2]/div[1]/div[1]/div[2]/div/nav/div[1]\")\n",
    "    LV5_button.click()\n",
    "    sleep(0.2)\n",
    "    x_target_table = driver.find_element(By.XPATH,'//*[@id=\"content-container\"]/div[2]/div[2]/div[1]/div[1]/div[1]')\n",
    "    return x_target_table\n",
    "\n",
    "def first_augmenter():\n",
    "    x_target_deck_name = driver.find_element(By.XPATH,'//*[@id=\"content-container\"]/div[2]/div[2]/div[2]/div/div[1]/div/div/div[1]/h2')\n",
    "    return x_target_deck_name\n",
    "\n",
    "\n",
    "def find_deck_name(x_html,x_deck_name_list):\n",
    "    x_deck_name = x_html.find('div',{'class':'css-1s5hngw e691syl3'}).find('h2').text\n",
    "    x_deck_name_list.append(x_deck_name)\n",
    "    return x_deck_name_list\n",
    "\n",
    "def find_item(x_html,x_deck_name_list):\n",
    "    try:\n",
    "        t = x_html.find('div',{'class':'css-1s5hngw e691syl3'}).text\n",
    "        x_deck_name_list.append(t.split('수집 아이템 추천')[1].split('활용 아이템')[0].replace('\\xa0',''))\n",
    "    except:\n",
    "        x_deck_name_list.append(\"\")\n",
    "    return x_deck_name_list"
   ]
  },
  {
   "cell_type": "markdown",
   "metadata": {},
   "source": [
    "## 덱 이름이랑 아이템 불러오기"
   ]
  },
  {
   "cell_type": "code",
   "execution_count": 12,
   "metadata": {},
   "outputs": [],
   "source": [
    "url = 'https://lolchess.gg'\n",
    "\n",
    "\n",
    "html = make_url(url+'/meta')\n",
    "\n",
    "deck_name_list = []\n",
    "item_list = []\n",
    "list_names = [deck_name_list, item_list]\n",
    "function_names2 = [find_deck_name, find_item]\n",
    "\n",
    "number = len(html.find_all('div',{'class':'css-128625v emls75t7'}))\n",
    "numbers = range(1,number)\n",
    "\n",
    "for i in numbers:\n",
    "    for function_name2, list_name in zip(function_names2, list_names):\n",
    "        page = find_page(i, url, html)\n",
    "        tip_page = make_url(page) #html.paser\n",
    "        \n",
    "        function_name2(tip_page, list_name)"
   ]
  },
  {
   "cell_type": "code",
   "execution_count": 13,
   "metadata": {},
   "outputs": [],
   "source": [
    "url = 'https://lolchess.gg'\n",
    "html = make_url(url+'/meta')\n",
    "\n",
    "numbers = range(1,len(html.find_all('div',{'class':'css-128625v emls75t7'})))\n",
    "\n",
    "tag_list = []\n",
    "\n",
    "for i in numbers:\n",
    "    if \"HOT\" in html.find_all('div',{'class':'css-1xsl2fm emls75t4'})[i].text:\n",
    "        a = html.find_all('div',{'class':'css-1xsl2fm emls75t4'})[i].find('span',{'class':'tag hot'}).text\n",
    "        tag_list.append(a)\n",
    "        \n",
    "    elif \"UPDATED\" in html.find_all('div',{'class':'css-1xsl2fm emls75t4'})[i].text:\n",
    "        a = html.find_all('div',{'class':'css-1xsl2fm emls75t4'})[i].find('span',{'class':'tag updated'}).text\n",
    "        tag_list.append(a)\n",
    "        \n",
    "    elif \"NEW\" in html.find_all('div',{'class':'css-1xsl2fm emls75t4'})[i].text:\n",
    "        a = html.find_all('div',{'class':'css-1xsl2fm emls75t4'})[i].find('span',{'class':'tag new'}).text\n",
    "        tag_list.append(a)\n",
    "        \n",
    "    else:\n",
    "        a = \"\"\n",
    "        tag_list.append(a)"
   ]
  },
  {
   "cell_type": "code",
   "execution_count": 14,
   "metadata": {},
   "outputs": [
    {
     "name": "stdout",
     "output_type": "stream",
     "text": [
      "30 30 30\n"
     ]
    }
   ],
   "source": [
    "link1_list =[]\n",
    "table_image_list = []\n",
    "deck_image_list = []\n",
    "\n",
    "for i in numbers:\n",
    "    link1_list.append(find_page(i, url, html))\n",
    "    table_image_list.append(f'table/table_{i}.png')\n",
    "    deck_image_list.append(f'deck/deck_{i}.png')\n",
    "\n",
    "\n",
    "print(len(link1_list), len(table_image_list), len(deck_image_list))"
   ]
  },
  {
   "cell_type": "markdown",
   "metadata": {},
   "source": [
    "### html body 태그 생성기"
   ]
  },
  {
   "cell_type": "code",
   "execution_count": 15,
   "metadata": {},
   "outputs": [],
   "source": [
    "text_list = \"\"\n",
    "\n",
    "for link1, deck_name, table_image, deck_image, item, tag in zip(link1_list, deck_name_list, table_image_list, deck_image_list, item_list, tag_list):\n",
    "    if 'B.F.대검' in item:\n",
    "        item = item.replace('B.F.대검','BF 대검')\n",
    "        item = re.sub(r'\\.', '.<br>', item)\n",
    "        \n",
    "    elif 'B.F. 대검' in item:\n",
    "        item = item.replace('B.F. 대검','BF 대검')\n",
    "        item = re.sub(r'\\.', '.<br>', item)\n",
    "    else:\n",
    "        item = re.sub(r'\\.', '.<br>', item)\n",
    "    \n",
    "    text = f\"\"\"<h2><a href=\"{link1}\">{deck_name}</a>{tag}</h2><img src=\"{table_image}\"><br><img src=\"{deck_image}\"><br><div class=\"text-content\">{item}</div><hr>\"\"\"\n",
    "    text_list += text"
   ]
  },
  {
   "cell_type": "code",
   "execution_count": 16,
   "metadata": {},
   "outputs": [],
   "source": [
    "import clipboard\n",
    "\n",
    "clipboard.copy(text_list)"
   ]
  },
  {
   "cell_type": "code",
   "execution_count": null,
   "metadata": {},
   "outputs": [],
   "source": []
  }
 ],
 "metadata": {
  "kernelspec": {
   "display_name": "base",
   "language": "python",
   "name": "python3"
  },
  "language_info": {
   "codemirror_mode": {
    "name": "ipython",
    "version": 3
   },
   "file_extension": ".py",
   "mimetype": "text/x-python",
   "name": "python",
   "nbconvert_exporter": "python",
   "pygments_lexer": "ipython3",
   "version": "3.11.7"
  }
 },
 "nbformat": 4,
 "nbformat_minor": 2
}
